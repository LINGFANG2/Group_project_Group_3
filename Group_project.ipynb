{
 "cells": [
  {
   "cell_type": "markdown",
   "id": "e79ce060-7b0d-4b01-bf53-d4ba360d86f6",
   "metadata": {},
   "source": [
    "# DAB111: Group Project\n",
    "\n",
    "## Requirements\n",
    "\n",
    "To successfully complete this project, you need to write Python code to store the data in a database, and then serve that data up via a website. Please see below for further details:\n",
    "\n",
    "**Data Collection**\n",
    "Data can be collected (legally) from anywhere. You may use data that you already have; or from sites that allow you to download the data, for example, [UCI Machine Learning Repository](https://archive.ics.uci.edu/) or [Kaggle Datasets](https://www.kaggle.com/datasets). We can restrict ourselves to data that would fit nicely into a spreadsheet. The content and amount of data are not the main consideration, as long as the data has:\n",
    "- at least 5 variables\n",
    "- two or more data types\n",
    "\n",
    "**Database**\n",
    "After the data has been collected, it should be stored in a SQLite database. The database need only have ONE table. At a minimum, database and table creation and data insertion should be done using the `sqlite3` package. Both SQLite and `sqlite3` come with Python. `Pandas` can be used as an intermediary. \n",
    "\n",
    "**Website**\n",
    "The data (or a small sample) should be presented through a website. This should be done using `flask`. The website:\n",
    " - needs only basic formatting\n",
    " - has an *About* page that provides:\n",
    "     - the source of the data\n",
    "     - definition of each variable\n",
    " - a *Data* page displaying the data, or a sample thereof\n",
    "\n",
    "\n",
    "**Readme.md**\n",
    "This file should present the reader with a basic description of what your code does. \n",
    "\n",
    "**Requirements.txt**\n",
    "This file contains all packages necessary to run your code. This file should allow the user to install all necessary packages via the command: `pip install -r requirements.txt`\n",
    "\n",
    "\n",
    "## Structure\n",
    "- All project related code in a single Github repository\n",
    "- All code in the repository is only FINAL code\n",
    "- The repository structure is\n",
    "    - main folder\n",
    "        - data collection (OPTIONAL: only if needed)\n",
    "        - data processing (OPTIONAL: only if needed)\n",
    "        - database\n",
    "        - website\n",
    "        - Readme.md\n",
    "        - requirements.txt\n",
    "- Each subfolder should be logically organized\n",
    "\n",
    "## Submission\n",
    "\n",
    "Submission consists of uploading a link to the Github repository containing all the code for your project. There should be one submission per group. \n",
    "\n",
    "Example: `https://github.com/Majid1292/DAB111_project_Group_8`\n",
    "\n"
   ]
  },
  {
   "cell_type": "code",
   "execution_count": 1,
   "id": "83afc92c-d300-42ad-8c16-c89fbfa0b44e",
   "metadata": {},
   "outputs": [
    {
     "ename": "AttributeError",
     "evalue": "module 'pandas' has no attribute 'read'",
     "output_type": "error",
     "traceback": [
      "\u001b[1;31m---------------------------------------------------------------------------\u001b[0m",
      "\u001b[1;31mAttributeError\u001b[0m                            Traceback (most recent call last)",
      "Cell \u001b[1;32mIn[1], line 7\u001b[0m\n\u001b[0;32m      4\u001b[0m \u001b[38;5;28;01mfrom\u001b[39;00m \u001b[38;5;21;01mflask\u001b[39;00m \u001b[38;5;28;01mimport\u001b[39;00m Flask, render_template_string, render_template\n\u001b[0;32m      5\u001b[0m \u001b[38;5;28;01mfrom\u001b[39;00m \u001b[38;5;21;01mwerkzeug\u001b[39;00m\u001b[38;5;21;01m.\u001b[39;00m\u001b[38;5;21;01mserving\u001b[39;00m \u001b[38;5;28;01mimport\u001b[39;00m run_simple\n\u001b[1;32m----> 7\u001b[0m df\u001b[38;5;241m=\u001b[39mpd\u001b[38;5;241m.\u001b[39mread\u001b[38;5;241m.\u001b[39mcsv(\u001b[38;5;124m\"\u001b[39m\u001b[38;5;124mfinal project.csv\u001b[39m\u001b[38;5;124m\"\u001b[39m)\n",
      "\u001b[1;31mAttributeError\u001b[0m: module 'pandas' has no attribute 'read'"
     ]
    }
   ],
   "source": [
    "import sqlite3\n",
    "import pandas as pd\n",
    "import csv\n",
    "from flask import Flask, render_template_string, render_template\n",
    "from werkzeug.serving import run_simple\n",
    "\n",
    "df=pd.read.csv(\"final project.csv\")\n",
    "\n"
   ]
  },
  {
   "cell_type": "code",
   "execution_count": null,
   "id": "053316fc-0e23-447d-ac79-34febbfb4ac7",
   "metadata": {},
   "outputs": [],
   "source": []
  },
  {
   "cell_type": "code",
   "execution_count": null,
   "id": "17242488-c2b9-4d48-b7a5-611351b19264",
   "metadata": {},
   "outputs": [],
   "source": []
  },
  {
   "cell_type": "code",
   "execution_count": null,
   "id": "5f97df8e-c536-4d2c-ae39-dde9898da682",
   "metadata": {},
   "outputs": [],
   "source": []
  }
 ],
 "metadata": {
  "kernelspec": {
   "display_name": "Python 3 (ipykernel)",
   "language": "python",
   "name": "python3"
  },
  "language_info": {
   "codemirror_mode": {
    "name": "ipython",
    "version": 3
   },
   "file_extension": ".py",
   "mimetype": "text/x-python",
   "name": "python",
   "nbconvert_exporter": "python",
   "pygments_lexer": "ipython3",
   "version": "3.11.7"
  }
 },
 "nbformat": 4,
 "nbformat_minor": 5
}

{
 "cells": [
  {
   "cell_type": "markdown",
   "id": "e79ce060-7b0d-4b01-bf53-d4ba360d86f6",
   "metadata": {},
   "source": [
    "# DAB111: Group Project\n",
    "\n",
    "## Requirements\n",
    "\n",
    "To successfully complete this project, you need to write Python code to store the data in a database, and then serve that data up via a website. Please see below for further details:\n",
    "\n",
    "**Data Collection**\n",
    "Data can be collected (legally) from anywhere. You may use data that you already have; or from sites that allow you to download the data, for example, [UCI Machine Learning Repository](https://archive.ics.uci.edu/) or [Kaggle Datasets](https://www.kaggle.com/datasets). We can restrict ourselves to data that would fit nicely into a spreadsheet. The content and amount of data are not the main consideration, as long as the data has:\n",
    "- at least 5 variables\n",
    "- two or more data types\n",
    "\n",
    "**Database**\n",
    "After the data has been collected, it should be stored in a SQLite database. The database need only have ONE table. At a minimum, database and table creation and data insertion should be done using the `sqlite3` package. Both SQLite and `sqlite3` come with Python. `Pandas` can be used as an intermediary. \n",
    "\n",
    "**Website**\n",
    "The data (or a small sample) should be presented through a website. This should be done using `flask`. The website:\n",
    " - needs only basic formatting\n",
    " - has an *About* page that provides:\n",
    "     - the source of the data\n",
    "     - definition of each variable\n",
    " - a *Data* page displaying the data, or a sample thereof\n",
    "\n",
    "\n",
    "**Readme.md**\n",
    "This file should present the reader with a basic description of what your code does. \n",
    "\n",
    "**Requirements.txt**\n",
    "This file contains all packages necessary to run your code. This file should allow the user to install all necessary packages via the command: `pip install -r requirements.txt`\n",
    "\n",
    "\n",
    "## Structure\n",
    "- All project related code in a single Github repository\n",
    "- All code in the repository is only FINAL code\n",
    "- The repository structure is\n",
    "    - main folder\n",
    "        - data collection (OPTIONAL: only if needed)\n",
    "        - data processing (OPTIONAL: only if needed)\n",
    "        - database\n",
    "        - website\n",
    "        - Readme.md\n",
    "        - requirements.txt\n",
    "- Each subfolder should be logically organized\n",
    "\n",
    "## Submission\n",
    "\n",
    "Submission consists of uploading a link to the Github repository containing all the code for your project. There should be one submission per group. \n",
    "\n",
    "Example: `https://github.com/Majid1292/DAB111_project_Group_8`\n",
    "\n"
   ]
  },
  {
   "cell_type": "code",
   "execution_count": 1,
   "id": "83afc92c-d300-42ad-8c16-c89fbfa0b44e",
   "metadata": {},
   "outputs": [],
   "source": [
    "import sqlite3\n",
    "import pandas as pd\n",
    "import csv\n",
    "from flask import Flask, render_template_string, render_template\n",
    "from werkzeug.serving import run_simple\n",
    "\n",
    "df=pd.read_csv(\"final project.csv\")"
   ]
  },
  {
   "cell_type": "code",
   "execution_count": 2,
   "id": "1fa3d2f7-058d-458b-88f8-21dcad1cc1e9",
   "metadata": {},
   "outputs": [],
   "source": [
    "conn = sqlite3.connect('mydatabase.db')\n",
    "c = conn.cursor()\n",
    "\n",
    "c.execute('''CREATE TABLE IF NOT EXISTS mytable (\n",
    "             col1 INTEGER PRIMARY KEY,\n",
    "             col2 TEXT,\n",
    "             col3 REAL)''')\n",
    "\n",
    "conn.commit()\n",
    "\n"
   ]
  },
  {
   "cell_type": "code",
   "execution_count": 3,
   "id": "bbb8d0ea-ae4b-4605-a28e-b5cc8f555fa3",
   "metadata": {},
   "outputs": [
    {
     "data": {
      "text/plain": [
       "1014"
      ]
     },
     "execution_count": 3,
     "metadata": {},
     "output_type": "execute_result"
    }
   ],
   "source": [
    "df.to_sql('df', conn, if_exists='replace', index=False)\n"
   ]
  },
  {
   "cell_type": "code",
   "execution_count": 4,
   "id": "b52bf46d-8d35-4b2c-8151-7b08abf937d4",
   "metadata": {},
   "outputs": [],
   "source": [
    "app = Flask(__name__,template_folder='.' )\n",
    "\n",
    "@app.route('/')\n",
    "def home():\n",
    "    data_html = df.to_html(index=False)\n",
    "    return render_template_string('''\n",
    "    <!DOCTYPE html>\n",
    "    <html>\n",
    "    <body>\n",
    "        <h1>My Database</h1>\n",
    "        <p>My name is Mr. X and wellcome to my page.</p>\n",
    "        <div> {{data|safe}} </div>\n",
    "    </body>\n",
    "    </html>\n",
    "    ''', data= data_html) \n",
    "\n",
    "@app.route('/about')\n",
    "def about():\n",
    "    return render_template('about.html') "
   ]
  },
  {
   "cell_type": "code",
   "execution_count": null,
   "id": "677906c4-a117-4f86-a550-293947bff9a7",
   "metadata": {},
   "outputs": [
    {
     "name": "stderr",
     "output_type": "stream",
     "text": [
      "WARNING: This is a development server. Do not use it in a production deployment. Use a production WSGI server instead.\n",
      " * Running on http://localhost:9000\n",
      "Press CTRL+C to quit\n",
      "127.0.0.1 - - [17/Jul/2024 23:18:30] \"GET / HTTP/1.1\" 200 -\n"
     ]
    }
   ],
   "source": [
    "run_simple('localhost',9000,app,use_reloader=False, use_debugger=False)"
   ]
  },
  {
   "cell_type": "code",
   "execution_count": null,
   "id": "1d1112a9-d70b-425d-90ac-346f4b57dc83",
   "metadata": {},
   "outputs": [],
   "source": []
  },
  {
   "cell_type": "code",
   "execution_count": null,
   "id": "171e53d6-067f-4bc5-8bfe-e05e6ab6b9e8",
   "metadata": {},
   "outputs": [],
   "source": []
  },
  {
   "cell_type": "code",
   "execution_count": null,
   "id": "3fb34d17-8456-443c-a627-634364e4de81",
   "metadata": {},
   "outputs": [],
   "source": []
  },
  {
   "cell_type": "code",
   "execution_count": null,
   "id": "78a4b777-53d9-4f98-9f98-75a58fa49400",
   "metadata": {},
   "outputs": [],
   "source": []
  },
  {
   "cell_type": "code",
   "execution_count": null,
   "id": "61f55470-19e6-4d0a-8d56-bc22aaf12248",
   "metadata": {},
   "outputs": [],
   "source": []
  },
  {
   "cell_type": "code",
   "execution_count": null,
   "id": "a46de44b-e29e-444a-9d13-e0bd4dba7b00",
   "metadata": {},
   "outputs": [],
   "source": []
  },
  {
   "cell_type": "code",
   "execution_count": null,
   "id": "78de347d-ca6a-4526-b4fc-c8f39a2ef8ea",
   "metadata": {},
   "outputs": [],
   "source": []
  },
  {
   "cell_type": "code",
   "execution_count": null,
   "id": "fa2a9340-0a8d-4a18-ac3d-ca916d1002c9",
   "metadata": {},
   "outputs": [],
   "source": []
  },
  {
   "cell_type": "code",
   "execution_count": null,
   "id": "547d8f5d-729a-4afa-bf4c-0dffe3f940d9",
   "metadata": {},
   "outputs": [],
   "source": []
  }
 ],
 "metadata": {
  "kernelspec": {
   "display_name": "Python 3 (ipykernel)",
   "language": "python",
   "name": "python3"
  },
  "language_info": {
   "codemirror_mode": {
    "name": "ipython",
    "version": 3
   },
   "file_extension": ".py",
   "mimetype": "text/x-python",
   "name": "python",
   "nbconvert_exporter": "python",
   "pygments_lexer": "ipython3",
   "version": "3.11.7"
  }
 },
 "nbformat": 4,
 "nbformat_minor": 5
}
